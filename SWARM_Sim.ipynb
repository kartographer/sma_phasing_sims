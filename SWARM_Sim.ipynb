{
 "cells": [
  {
   "cell_type": "code",
   "execution_count": 1,
   "id": "97168474",
   "metadata": {},
   "outputs": [],
   "source": [
    "import os\n",
    "import matplotlib.pyplot as plt\n",
    "import numpy as np #Numpy\n",
    "import json"
   ]
  },
  {
   "cell_type": "code",
   "execution_count": 2,
   "id": "00f91d8d",
   "metadata": {},
   "outputs": [],
   "source": [
    "repo_path = '/Users/gkeating/repo/sma_phasing_sims'\n",
    "filename = 'phasing_data/vlbi_cal.099-2021.json'\n",
    "\n",
    "# Read the data in\n",
    "with open(os.path.join(repo_path, filename)) as json_file:\n",
    "    swarm_data = json.load(json_file)"
   ]
  },
  {
   "cell_type": "code",
   "execution_count": 3,
   "id": "9ea7839a",
   "metadata": {},
   "outputs": [],
   "source": [
    "# Grab the total length of the data real quick\n",
    "n_data = len(swarm_data)\n",
    "\n",
    "# We're gonna be doing a lot of diff operations, which means in some cases we'll want\n",
    "# to pad some arrays with zeros. Construct some arrays now for the sake of convenience\n",
    "zero_pad = [\n",
    "    np.zeros((1,len(swarm_data[0]['phases_lsb']))),\n",
    "    np.zeros((1,len(swarm_data[0]['phases_usb']))),\n",
    "]\n",
    "\n",
    "# These are the implemented phase values recorded in SWARM\n",
    "phases_lsb = np.array([swarm_data[idx]['phases_lsb'] for idx in range(n_data)])\n",
    "phases_usb = np.array([swarm_data[idx]['phases_usb'] for idx in range(n_data)])\n",
    "\n",
    "# These are the derived offsets/error terms for each antenna, given the implemented values\n",
    "cal_solution_lsb = np.array([swarm_data[idx]['cal_solution_lsb'][2] for idx in range(n_data)])\n",
    "cal_solution_usb = np.array([swarm_data[idx]['cal_solution_usb'][2] for idx in range(n_data)])\n",
    "\n",
    "# Let's calculate the \"true\" phase -- that is, assume that the solutions are perfect, and\n",
    "# use that to figure out what the antenna phase should _actually_ have been at time of obs.\n",
    "# There's kind of a funny padding operation that's needed here because of the order values\n",
    "# in the JSON file are recorded (soln's derived -> values implemented -> values recorded).\n",
    "true_phase_lsb = np.concatenate((zero_pad[0], phases_lsb[:-1] + cal_solution_lsb[1:]))\n",
    "true_phase_usb = np.concatenate((zero_pad[1], phases_usb[:-1] + cal_solution_usb[1:]))\n",
    "\n",
    "# Convert times from UNIX -> fractional UTC hours\n",
    "time_stamps = (np.array([swarm_data[idx]['int_time'] for idx in range(n_data)]) % 86400) / 3600.0"
   ]
  },
  {
   "cell_type": "code",
   "execution_count": 4,
   "id": "110e9886",
   "metadata": {},
   "outputs": [],
   "source": [
    "kp = .75  #Proportional Gain - SWARM default is 0.75\n",
    "kd = .01  #Derivative Gain - SWARM default is 0.01\n",
    "ki = .05  #Integral Gain  - SWARM default is 0.05\n",
    "\n",
    "# The parameter below effectively controls how long a window over which the\n",
    "# integral term is calculated -- in SWARM, the default is 8 integrations.\n",
    "int_length = 8\n",
    "\n",
    "p_vals = cal_solution_usb.copy()\n",
    "i_vals = cal_solution_usb.copy()\n",
    "for idx in range(1, int_length):\n",
    "    i_vals[idx:] += cal_solution_usb[:-idx]\n",
    "d_vals = np.concatenate((zero_pad[1], np.diff(cal_solution_usb, axis=0)))"
   ]
  },
  {
   "cell_type": "code",
   "execution_count": 5,
   "id": "0862484f",
   "metadata": {},
   "outputs": [],
   "source": [
    "pid_sim = p_vals*kp + i_vals*ki + d_vals*kd\n",
    "\n",
    "# This unwrapping of the phase angle is done here to eliminate any wraps which may look\n",
    "# like big spikes in the PID response.\n",
    "pid_sim = (((pid_sim + 180.0) % 360.0) - 180.0)\n",
    "\n",
    "# To calculate what the online PID servo loop was doing, take the difference between\n",
    "# the implemented phases in subsequent integrations, via numpy's diff operation. We \n",
    "# do the same wrapping here to make sure that everything is in the same range.\n",
    "pid_response_lsb = (\n",
    "    (np.concatenate((zero_pad[0], np.diff(phases_lsb, axis=0))) + 180.0) % 360.0\n",
    ") - 180.0\n",
    "\n",
    "pid_response_usb = (\n",
    "    (np.concatenate((zero_pad[1], np.diff(phases_usb, axis=0))) + 180.0) % 360.0\n",
    ") - 180.0"
   ]
  },
  {
   "cell_type": "code",
   "execution_count": 6,
   "id": "8254b46e",
   "metadata": {},
   "outputs": [
    {
     "data": {
      "image/png": "[encoded data removed]",
      "text/plain": [
       "<Figure size 432x288 with 1 Axes>"
      ]
     },
     "metadata": {
      "needs_background": "light"
     },
     "output_type": "display_data"
    }
   ],
   "source": [
    "# Lo and behold, the magic of the simulation!\n",
    "_ = plt.plot(time_stamps, pid_sim - pid_response_usb, '.')"
   ]
  },
  {
   "cell_type": "markdown",
   "id": "5036ce64",
   "metadata": {},
   "source": [
    "Note that the big spikes above are actually being caused by the phasing loop being turned on and off, as part of normal array operations. Each dataset likely contains a few integrations like this -- we could try to manually excise them, or for now, just ignore them, since they only contaminate a very small fraction of the data."
   ]
  },
  {
   "cell_type": "code",
   "execution_count": 7,
   "id": "3bf18769",
   "metadata": {},
   "outputs": [],
   "source": [
    "# Finally, let's see what happens if we tweak values\n",
    "# Begin skeleton code!\n",
    "int_length = 8  # Integral length - SWARM default is 8\n",
    "kp = 0.75       # Proportional Gain - SWARM default is 0.75\n",
    "ki = .05        # Integral Gain  - SWARM default is 0.05\n",
    "kd = .01        # Derivative Gain - SWARM default is 0.01\n",
    "\n",
    "int_window = np.zeros((int_length, true_phase_usb.shape[1]))\n",
    "new_epsilon = np.zeros(true_phase_usb.shape)\n",
    "last_cal = true_phase_usb[0]\n",
    "\n",
    "for idx in range(n_data):\n",
    "    cal_soln = (((true_phase_usb[idx] - last_cal) + 180.0 ) % 360.0) - 180.0\n",
    "    new_epsilon[idx] = cal_soln\n",
    "    int_window = np.roll(int_window, 1, axis=0)\n",
    "    int_window[0] = cal_soln\n",
    "    \n",
    "    pid_response = (\n",
    "        (kp * cal_soln)\n",
    "        + (int_window.sum(axis=0) * ki)\n",
    "        + ((int_window[0] - int_window[1]) * kd)\n",
    "    )\n",
    "    last_cal += pid_response\n",
    "    last_cal = ((last_cal + 180.0 ) % 360.0) - 180.0"
   ]
  },
  {
   "cell_type": "code",
   "execution_count": null,
   "id": "b40b66fc",
   "metadata": {},
   "outputs": [],
   "source": []
  },
  {
   "cell_type": "code",
   "execution_count": null,
   "id": "452e7125",
   "metadata": {},
   "outputs": [],
   "source": []
  }
 ],
 "metadata": {
  "kernelspec": {
   "display_name": "Python 3 (ipykernel)",
   "language": "python",
   "name": "python3"
  },
  "language_info": {
   "codemirror_mode": {
    "name": "ipython",
    "version": 3
   },
   "file_extension": ".py",
   "mimetype": "text/x-python",
   "name": "python",
   "nbconvert_exporter": "python",
   "pygments_lexer": "ipython3",
   "version": "3.9.8"
  }
 },
 "nbformat": 4,
 "nbformat_minor": 5
}
