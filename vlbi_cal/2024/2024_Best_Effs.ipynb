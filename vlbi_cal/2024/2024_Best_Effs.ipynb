{
 "cells": [
  {
   "cell_type": "code",
   "execution_count": 1,
   "id": "0b3792d5",
   "metadata": {},
   "outputs": [],
   "source": [
    "import numpy as np\n",
    "\n",
    "import matplotlib.pyplot as plt"
   ]
  },
  {
   "cell_type": "code",
   "execution_count": 2,
   "id": "d14e6101",
   "metadata": {
    "scrolled": true
   },
   "outputs": [],
   "source": [
    "data = np.load('vlbi_cal.022-2024_results_arr.npz')\n",
    "\n",
    "for key in data:\n",
    "    #print(key)\n",
    "    #print(data[key])\n",
    "    \n",
    "    data1 = data[key]"
   ]
  },
  {
   "cell_type": "code",
   "execution_count": 3,
   "id": "c6e9b901",
   "metadata": {},
   "outputs": [
    {
     "name": "stdout",
     "output_type": "stream",
     "text": [
      "(41, 41, 41, 1, 10)\n"
     ]
    }
   ],
   "source": [
    "print(data1.shape)"
   ]
  },
  {
   "cell_type": "code",
   "execution_count": 4,
   "id": "0de1ee7d",
   "metadata": {},
   "outputs": [
    {
     "name": "stdout",
     "output_type": "stream",
     "text": [
      "8 20 24\n",
      "0.9445612 0.9445612\n"
     ]
    }
   ],
   "source": [
    "for key in data:\n",
    "    data1 = data[key]\n",
    "    \n",
    "    row = data1[:,:,:,0,0]   \n",
    "    best_x, best_y, best_z = np.where(row == np.max(row))\n",
    "        \n",
    "    print(best_x[0], best_y[0], best_z[0])\n",
    "    print(row[best_x[0], best_y[0], best_z[0]],np.max(row))"
   ]
  },
  {
   "cell_type": "code",
   "execution_count": null,
   "id": "e87e45f1",
   "metadata": {},
   "outputs": [],
   "source": []
  },
  {
   "cell_type": "code",
   "execution_count": null,
   "id": "dddb506d",
   "metadata": {},
   "outputs": [],
   "source": []
  },
  {
   "cell_type": "code",
   "execution_count": 5,
   "id": "cc6f3710",
   "metadata": {},
   "outputs": [],
   "source": [
    "import glob"
   ]
  },
  {
   "cell_type": "code",
   "execution_count": 10,
   "id": "f3d32351",
   "metadata": {},
   "outputs": [],
   "source": [
    "files = glob.glob('*.npz', recursive = True)"
   ]
  },
  {
   "cell_type": "code",
   "execution_count": 65,
   "id": "4f330fe7",
   "metadata": {},
   "outputs": [
    {
     "name": "stdout",
     "output_type": "stream",
     "text": [
      "vlbi_cal.022-2024_results_arr.npz\n",
      "8 20 24\n",
      "0.9445612 == 0.9445612 \n",
      "\n",
      "vlbi_cal.024-2024_results_arr.npz\n",
      "14 19 24\n",
      "0.9016611 == 0.9016611 \n",
      "\n",
      "vlbi_cal.025-2024_results_arr.npz\n",
      "16 20 23\n",
      "0.6001763 == 0.6001763 \n",
      "\n",
      "vlbi_cal.093-2024_results_arr.npz\n",
      "24 19 20\n",
      "0.9065781 == 0.9065781 \n",
      "\n",
      "vlbi_cal.095-2024_results_arr.npz\n",
      "26 19 20\n",
      "0.83105695 == 0.83105695 \n",
      "\n",
      "vlbi_cal.098-2024_results_arr.npz\n",
      "19 20 21\n",
      "0.77744305 == 0.77744305 \n",
      "\n",
      "vlbi_cal.099-2024_results_arr.npz\n",
      "15 19 23\n",
      "0.8893983 == 0.8893983 \n",
      "\n",
      "vlbi_cal.100-2024_results_arr.npz\n",
      "18 19 22\n",
      "0.68195945 == 0.68195945 \n",
      "\n",
      "vlbi_cal.101-2024_results_arr.npz\n",
      "13 20 24\n",
      "0.9368678 == 0.9368678 \n",
      "\n",
      "vlbi_cal.102-2024_results_arr.npz\n",
      "1 20 23\n",
      "0.4142617 == 0.4142617 \n",
      "\n"
     ]
    }
   ],
   "source": [
    "best_effs = []\n",
    "for filename in files:\n",
    "    data = np.load(filename)\n",
    "    \n",
    "    for key in data:\n",
    "        data_arr = data[key]\n",
    "        \n",
    "        row = data_arr[:,:,:,0,0]\n",
    "        best_x, best_y, best_z = np.where(row == np.max(row))\n",
    "        \n",
    "        print(filename)\n",
    "        print(best_x[0], best_y[0], best_z[0])\n",
    "        print(row[best_x[0], best_y[0], best_z[0]], \"==\", np.max(row), '\\n')\n",
    "        best_effs.append(row[best_x[0], best_y[0], best_z[0]])\n",
    "        \n",
    "#print(best_effs)"
   ]
  },
  {
   "cell_type": "code",
   "execution_count": null,
   "id": "56dbf864",
   "metadata": {},
   "outputs": [],
   "source": []
  }
 ],
 "metadata": {
  "kernelspec": {
   "display_name": "Python 3 (ipykernel)",
   "language": "python",
   "name": "python3"
  },
  "language_info": {
   "codemirror_mode": {
    "name": "ipython",
    "version": 3
   },
   "file_extension": ".py",
   "mimetype": "text/x-python",
   "name": "python",
   "nbconvert_exporter": "python",
   "pygments_lexer": "ipython3",
   "version": "3.11.4"
  }
 },
 "nbformat": 4,
 "nbformat_minor": 5
}
