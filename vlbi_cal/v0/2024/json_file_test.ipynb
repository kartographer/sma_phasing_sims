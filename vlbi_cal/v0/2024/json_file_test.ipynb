{
 "cells": [
  {
   "cell_type": "code",
   "execution_count": 2,
   "id": "698d8494",
   "metadata": {},
   "outputs": [],
   "source": [
    "# Testing notebook for writing contents into a json file, saving it in the directory, and importing it into a script"
   ]
  },
  {
   "cell_type": "code",
   "execution_count": 3,
   "id": "c1fc76ae",
   "metadata": {},
   "outputs": [],
   "source": [
    "import json\n",
    "import numpy as np"
   ]
  },
  {
   "cell_type": "code",
   "execution_count": 4,
   "id": "203661b2",
   "metadata": {},
   "outputs": [],
   "source": [
    "year = 2024\n",
    "ki = np.random.random()\n",
    "kp = np.random.random()\n",
    "kd = np.random.random()\n",
    "eff = np.random.random()"
   ]
  },
  {
   "cell_type": "code",
   "execution_count": 5,
   "id": "d3374ca3",
   "metadata": {
    "scrolled": false
   },
   "outputs": [
    {
     "name": "stdout",
     "output_type": "stream",
     "text": [
      "{\n",
      "    \"year\": 2024,\n",
      "    \"best_vals\": {\n",
      "        \"ki\": 0.6563868347439415,\n",
      "        \"kp\": 0.4519619240011835,\n",
      "        \"kd\": 0.6836891397393186\n",
      "    }\n",
      "}\n"
     ]
    }
   ],
   "source": [
    "test_json = {}    # the main dictionary\n",
    "content = {}      # the nested dictionary; content to the key\n",
    "\n",
    "content['ki'] = ki\n",
    "content['kp'] = kp\n",
    "content['kd'] = kd\n",
    "\n",
    "test_json['year'] = year\n",
    "test_json['best_vals'] = content\n",
    "print(json.dumps(test_json, indent=4)) # indent=4 for prettier print statement"
   ]
  },
  {
   "cell_type": "code",
   "execution_count": 6,
   "id": "b072541b",
   "metadata": {},
   "outputs": [],
   "source": [
    "save_file = open('testfile.json', 'w')\n",
    "json.dump(test_json, save_file, indent=4)\n",
    "save_file.close()"
   ]
  },
  {
   "cell_type": "code",
   "execution_count": 7,
   "id": "9cff9014",
   "metadata": {},
   "outputs": [],
   "source": [
    "file = open('testfile.json')\n",
    "file = json.load(file)"
   ]
  },
  {
   "cell_type": "code",
   "execution_count": 8,
   "id": "84085a64",
   "metadata": {},
   "outputs": [
    {
     "name": "stdout",
     "output_type": "stream",
     "text": [
      "2024\n"
     ]
    }
   ],
   "source": [
    "print(file['year'])"
   ]
  },
  {
   "cell_type": "code",
   "execution_count": 9,
   "id": "922cbd2b",
   "metadata": {
    "scrolled": false
   },
   "outputs": [],
   "source": [
    "file['best_eff'] = eff"
   ]
  },
  {
   "cell_type": "code",
   "execution_count": 10,
   "id": "d881a3d3",
   "metadata": {
    "scrolled": false
   },
   "outputs": [
    {
     "name": "stdout",
     "output_type": "stream",
     "text": [
      "{\n",
      "    \"year\": 2024,\n",
      "    \"best_vals\": {\n",
      "        \"ki\": 0.6563868347439415,\n",
      "        \"kp\": 0.4519619240011835,\n",
      "        \"kd\": 0.6836891397393186\n",
      "    },\n",
      "    \"best_eff\": 0.7503307921385569\n",
      "}\n"
     ]
    }
   ],
   "source": [
    "print(json.dumps(file, indent=4))"
   ]
  },
  {
   "cell_type": "code",
   "execution_count": 11,
   "id": "88d043ea",
   "metadata": {},
   "outputs": [],
   "source": [
    "save_file = open('new_testfile.json', 'w')\n",
    "json.dump(file, save_file, indent=4)\n",
    "save_file.close()"
   ]
  },
  {
   "cell_type": "code",
   "execution_count": 12,
   "id": "01fd347d",
   "metadata": {},
   "outputs": [],
   "source": [
    "file0 = open('new_testfile.json')\n",
    "file0 = json.load(file0)"
   ]
  },
  {
   "cell_type": "code",
   "execution_count": 13,
   "id": "54e7d90a",
   "metadata": {},
   "outputs": [
    {
     "name": "stdout",
     "output_type": "stream",
     "text": [
      "0.6563868347439415\n"
     ]
    }
   ],
   "source": [
    "print(file0['best_vals']['ki'])"
   ]
  },
  {
   "cell_type": "code",
   "execution_count": 14,
   "id": "971d354c",
   "metadata": {},
   "outputs": [
    {
     "name": "stdout",
     "output_type": "stream",
     "text": [
      "{\n",
      "    \"year\": 2024,\n",
      "    \"best_vals\": {\n",
      "        \"ki\": 0.6563868347439415,\n",
      "        \"kp\": 0.4519619240011835,\n",
      "        \"kd\": 0.6836891397393186\n",
      "    },\n",
      "    \"best_eff\": 0.7503307921385569\n",
      "}\n"
     ]
    }
   ],
   "source": [
    "print(json.dumps(file0, indent=4))"
   ]
  },
  {
   "cell_type": "code",
   "execution_count": null,
   "id": "d9ba777f",
   "metadata": {},
   "outputs": [],
   "source": []
  }
 ],
 "metadata": {
  "kernelspec": {
   "display_name": "Python 3 (ipykernel)",
   "language": "python",
   "name": "python3"
  },
  "language_info": {
   "codemirror_mode": {
    "name": "ipython",
    "version": 3
   },
   "file_extension": ".py",
   "mimetype": "text/x-python",
   "name": "python",
   "nbconvert_exporter": "python",
   "pygments_lexer": "ipython3",
   "version": "3.11.4"
  }
 },
 "nbformat": 4,
 "nbformat_minor": 5
}
