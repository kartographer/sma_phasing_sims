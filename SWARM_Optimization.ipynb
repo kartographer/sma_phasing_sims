{
 "cells": [
  {
   "cell_type": "code",
   "execution_count": 110,
   "id": "3fc100b1",
   "metadata": {},
   "outputs": [],
   "source": [
    "import os, sys, time, argparse\n",
    "import matplotlib.pyplot as plt\n",
    "import numpy as np\n",
    "import json\n",
    "import ray\n",
    "\n",
    "#ray.init(log_to_driver=False)\n",
    "\n",
    "def load_swarm_data(filename):\n",
    "    with open(filename) as json_file:\n",
    "        swarm_data = json.load(json_file)\n",
    "    # Grab the total number of integrations\n",
    "    n_data = len(swarm_data)\n",
    "\n",
    "    \n",
    "    # 'cal_solution', 'delays', 'efficiencies', 'inputs', 'int_length', 'int_time', 'phases'\n",
    "    if 'phases' in swarm_data[0].keys():\n",
    "        # Phases is the \"old\" keyword, where DSB phasing wasn't used.\n",
    "        input_count = np.median([len(swarm_data[idx]['inputs']) for idx in range(n_data)])\n",
    "        use_data = [\n",
    "            (len(swarm_data[idx]['inputs']) == input_count)\n",
    "            and (len(swarm_data[idx]['phases']) == input_count)\n",
    "            and (len(swarm_data[idx]['cal_solution'][2]) == input_count)\n",
    "            for idx in range(n_data)\n",
    "        ]\n",
    "\n",
    "        swarm_data = [swarm_data[idx] for idx in range(n_data) if use_data[idx]]\n",
    "        n_data = len(swarm_data)\n",
    "\n",
    "        # These are the implemented phase values recorded in SWARM\n",
    "        phase_online = np.array([swarm_data[idx]['phases'] for idx in range(n_data)])\n",
    "        # These are the derived phase offsets post-correlation\n",
    "        phase_solns = np.array([swarm_data[idx]['cal_solution'][2] for idx in range(n_data)])\n",
    "        \n",
    "        # Add the two to get the \"true\" value at the time\n",
    "        true_phases = phase_online[1:] + phase_solns[:-1]\n",
    "        prog_vals = phase_online\n",
    "    else:\n",
    "        input_count = np.median([[len(data['inputs_lsb']), len(data['inputs_usb'])] for data in swarm_data])\n",
    "\n",
    "        use_data = [\n",
    "            (len(swarm_data[idx]['inputs_lsb']) == input_count)\n",
    "            and (len(swarm_data[idx]['phases_lsb']) == input_count)\n",
    "            and (len(swarm_data[idx]['cal_solution_lsb'][2]) == input_count)\n",
    "            and (len(swarm_data[idx]['inputs_usb']) == input_count)\n",
    "            and (len(swarm_data[idx]['phases_usb']) == input_count)\n",
    "            and (len(swarm_data[idx]['cal_solution_usb'][2]) == input_count)\n",
    "            for idx in range(n_data)\n",
    "        ]\n",
    "\n",
    "        swarm_data = [swarm_data[idx] for idx in range(n_data) if use_data[idx]]\n",
    "        n_data = len(swarm_data)\n",
    "\n",
    "        # We're gonna be doing a lot of diff operations, which means in some cases we'll want\n",
    "        # to pad some arrays with zeros. Construct some arrays now for the sake of convenience\n",
    "        # These are the implemented phase values recorded in SWARM\n",
    "        phases_lsb = np.array([data['phases_lsb'] for data in swarm_data])\n",
    "        phases_usb = np.array([data['phases_usb'] for data in swarm_data])\n",
    "\n",
    "        # These are the derived offsets/error terms for each antenna, given the implemented values\n",
    "        cal_solution_lsb = np.array([data['cal_solution_lsb'][2] for data in swarm_data])\n",
    "        cal_solution_usb = np.array([data['cal_solution_usb'][2] for data in swarm_data])\n",
    "\n",
    "        # Let's calculate the \"true\" phase -- that is, assume that the solutions are perfect, and\n",
    "        # use that to figure out what the antenna phase should _actually_ have been at time of obs.\n",
    "        # There's kind of a funny padding operation that's needed here because of the order values\n",
    "        # in the JSON file are recorded (soln's derived -> values implemented -> values recorded).\n",
    "        true_phases = np.concatenate(\n",
    "            (phases_lsb[:-1] + cal_solution_lsb[1:], phases_usb[:-1] + cal_solution_usb[1:]), axis=1,\n",
    "        )\n",
    "\n",
    "        prog_vals = np.concatenate((phases_lsb, phases_usb), axis=1)\n",
    "\n",
    "    # Convert times from UNIX -> fractional UTC hours\n",
    "    time_stamps = (np.array([data['int_time'] for data in swarm_data]) % 86400) / 3600.0\n",
    "    \n",
    "    return (true_phases, time_stamps)\n",
    "\n",
    "#@ray.remote\n",
    "def sim_pid_loop(phase_data, int_length=8, kp=0.75, ki=0.40, kd=0.01):\n",
    "    n_times = phase_data.shape[0]\n",
    "    n_inputs = phase_data.shape[1]\n",
    "    int_window = np.zeros((int_length, n_inputs))\n",
    "    int_term = np.zeros(n_inputs)\n",
    "    new_epsilon = np.zeros((n_times, n_inputs))\n",
    "    pid_arr = np.zeros((n_times, n_inputs))\n",
    "    last_cal = np.array(phase_data[0])\n",
    "    last_epsilon = np.array(phase_data[0])\n",
    "\n",
    "    for idx in range(n_times):\n",
    "        cal_soln = (((phase_data[idx] - last_cal) + 180.0 ) % 360.0) - 180.0\n",
    "        new_epsilon[idx] = cal_soln\n",
    "        pos_mark = np.mod(idx, int_length)\n",
    "        int_term += (cal_soln - int_window[pos_mark])\n",
    "        int_window[pos_mark] = cal_soln\n",
    "        del_term = cal_soln - last_epsilon\n",
    "\n",
    "        pid_response = (\n",
    "            (kp * cal_soln)\n",
    "            + (int_term * (ki / int_length))\n",
    "            + (del_term * kd)\n",
    "        )\n",
    "        last_cal += pid_response\n",
    "        last_cal = ((last_cal + 180.0 ) % 360.0) - 180.0\n",
    "        last_epsilon = cal_soln\n",
    "        pid_arr[idx] = pid_response\n",
    "\n",
    "    ph_eff_vals = (np.abs(\n",
    "        np.mean(np.exp(-1j*np.deg2rad(new_epsilon.reshape((n_times, 8, -1)))),axis=2)\n",
    "    )**2.0).astype(np.float32)\n",
    "\n",
    "    return ph_eff_vals, pid_arr"
   ]
  },
  {
   "cell_type": "code",
   "execution_count": null,
   "id": "c02b54bb",
   "metadata": {},
   "outputs": [],
   "source": []
  },
  {
   "cell_type": "code",
   "execution_count": 36,
   "id": "4c7dbec1",
   "metadata": {},
   "outputs": [
    {
     "name": "stdout",
     "output_type": "stream",
     "text": [
      "(1773, 48)\n"
     ]
    },
    {
     "data": {
      "text/plain": [
       "(-20.0, 20.0)"
      ]
     },
     "execution_count": 36,
     "metadata": {},
     "output_type": "execute_result"
    },
    {
     "data": {
      "image/png": "[encoded data removed]",
      "text/plain": [
       "<Figure size 432x288 with 1 Axes>"
      ]
     },
     "metadata": {
      "needs_background": "light"
     },
     "output_type": "display_data"
    }
   ],
   "source": [
    "data_file = '/Users/gkeating/repo/sma_phasing_sims/phasing_data/vlbi_cal.107-2021.json'\n",
    "phase_arr, prog_arr, time_vals = load_swarm_data(data_file)\n",
    "_, pid_response = sim_pid_loop(phase_arr)\n",
    "print(pid_response.shape)\n",
    "eval_vals = (pid_response[1:,2] - np.diff(prog_arr[:,2], axis=0))\n",
    "eval_vals[eval_vals < -180.0] += 360.0\n",
    "eval_vals[eval_vals > 180.0] -= 360.0\n",
    "\n",
    "_ = plt.plot(eval_vals, '.')\n",
    "plt.ylim([-20, 20])"
   ]
  },
  {
   "cell_type": "code",
   "execution_count": 2,
   "id": "8f59f7b3",
   "metadata": {},
   "outputs": [
    {
     "name": "stdout",
     "output_type": "stream",
     "text": [
      "Processing.....................complete!\n",
      "Recording.....................complete!\n",
      "CPU times: user 15.1 s, sys: 5.22 s, total: 20.3 s\n",
      "Wall time: 1min 7s\n"
     ]
    }
   ],
   "source": [
    "%%time\n",
    "data_file = '/Users/gkeating/repo/sma_phasing_sims/phasing_data/vlbi_cal.107-2021.json'\n",
    "\n",
    "n_kp = 21\n",
    "kp_range = [0., 2.]\n",
    "n_ki = 26\n",
    "ki_range = [-10, 15]\n",
    "n_kd = 21\n",
    "kd_range = [-1., 1.]\n",
    "\n",
    "n_int = 1\n",
    "int_start = 3\n",
    "int_step = 3\n",
    "\n",
    "phase_arr, time_vals = load_swarm_data(data_file)\n",
    "n_times = phase_arr.shape[0]\n",
    "phase_arr_id = ray.put(phase_arr)\n",
    "pid_arr = {}\n",
    "print(\"Processing\", end=\"\")\n",
    "sys.stdout.flush()\n",
    "\n",
    "for idx, kp in enumerate(np.linspace(kp_range[0], kp_range[1], num=n_kp)):\n",
    "    for jdx, ki in enumerate(np.linspace(ki_range[0], ki_range[1], num=n_ki)):\n",
    "        for kdx, kd in enumerate(np.linspace(kd_range[0], kd_range[1], num=n_kd)):\n",
    "            for ldx, int_length in enumerate(np.arange(int_start, int_start + (int_step * n_int) , int_step)):\n",
    "                pid_arr[sim_pid_loop.remote(phase_arr_id, int_length=int_length, kp=kp, ki=ki, kd=kd)] = (idx,jdx,kdx,ldx)\n",
    "    print(\".\", end=\"\")\n",
    "    sys.stdout.flush()\n",
    "print(\"complete!\")\n",
    "\n",
    "results_arr = np.zeros((n_kp, n_ki, n_kd, n_int, n_times, 8), dtype=np.float32)\n",
    "print(\"Recording\", end=\"\")\n",
    "sys.stdout.flush()\n",
    "while pid_arr != {}:\n",
    "    ready_ids, not_ready_ids = ray.wait(list(pid_arr.keys()), num_returns=n_ki*n_kd*n_int)\n",
    "    for obj_id in ready_ids:\n",
    "        results_arr[pid_arr[obj_id]] = ray.get(obj_id)\n",
    "        del pid_arr[obj_id]\n",
    "    print(\".\", end=\"\")\n",
    "    sys.stdout.flush()\n",
    "print(\"complete!\")\n"
   ]
  },
  {
   "cell_type": "code",
   "execution_count": 43,
   "id": "e0a52266",
   "metadata": {},
   "outputs": [
    {
     "data": {
      "text/plain": [
       "162633744"
      ]
     },
     "execution_count": 43,
     "metadata": {},
     "output_type": "execute_result"
    }
   ],
   "source": [
    "results_arr.size"
   ]
  },
  {
   "cell_type": "code",
   "execution_count": 52,
   "id": "64087f92",
   "metadata": {},
   "outputs": [
    {
     "name": "stdout",
     "output_type": "stream",
     "text": [
      "Prox done in 5.48363e-05 seconds\n"
     ]
    }
   ],
   "source": [
    "start_time = time.time()\n",
    "print('Prox done in %g seconds' % (time.time() - start_time))\n"
   ]
  },
  {
   "cell_type": "code",
   "execution_count": 15,
   "id": "1f3d31db",
   "metadata": {},
   "outputs": [
    {
     "data": {
      "image/png": "[encoded data removed]",
      "text/plain": [
       "<Figure size 432x288 with 1 Axes>"
      ]
     },
     "metadata": {
      "needs_background": "light"
     },
     "output_type": "display_data"
    },
    {
     "data": {
      "image/png": "[encoded data removed]",
      "text/plain": [
       "<Figure size 432x288 with 1 Axes>"
      ]
     },
     "metadata": {
      "needs_background": "light"
     },
     "output_type": "display_data"
    },
    {
     "data": {
      "image/png": "[encoded data removed]",
      "text/plain": [
       "<Figure size 432x288 with 1 Axes>"
      ]
     },
     "metadata": {
      "needs_background": "light"
     },
     "output_type": "display_data"
    },
    {
     "data": {
      "image/png": "[encoded data removed]",
      "text/plain": [
       "<Figure size 432x288 with 1 Axes>"
      ]
     },
     "metadata": {
      "needs_background": "light"
     },
     "output_type": "display_data"
    },
    {
     "data": {
      "image/png": "[encoded data removed]",
      "text/plain": [
       "<Figure size 432x288 with 1 Axes>"
      ]
     },
     "metadata": {
      "needs_background": "light"
     },
     "output_type": "display_data"
    },
    {
     "data": {
      "image/png": "[encoded data removed]",
      "text/plain": [
       "<Figure size 432x288 with 1 Axes>"
      ]
     },
     "metadata": {
      "needs_background": "light"
     },
     "output_type": "display_data"
    }
   ],
   "source": [
    "plt.imshow(np.mean(results_arr/np.max(results_arr > 0.),axis=0), extent=np.array([ki_range, kd_range]).flatten(), origin='lower', cmap='jet', aspect=10)\n",
    "plt.clim([0, 1])\n",
    "plt.show()\n",
    "plt.imshow(np.mean(results_arr/np.max(results_arr),axis=1), extent=np.array([kp_range, kd_range]).flatten(), origin='lower', cmap='jet', aspect=1)\n",
    "plt.clim([0, 1])\n",
    "plt.show()\n",
    "plt.imshow(np.mean(results_arr/np.max(results_arr),axis=2), extent=np.array([kp_range, ki_range]).flatten(), origin='lower', cmap='jet', aspect=0.1)\n",
    "plt.clim([0, 1])\n",
    "plt.show()\n",
    "plt.plot(np.linspace(kp_range[0], kp_range[1], num=n_kp), results_arr.sum(axis=2).sum(axis=1))\n",
    "plt.show()\n",
    "plt.plot(np.linspace(ki_range[0], ki_range[1], num=n_ki), results_arr.sum(axis=2).sum(axis=0))\n",
    "plt.show()\n",
    "plt.plot(np.linspace(kd_range[0], kd_range[1], num=n_kd), results_arr.sum(axis=1).sum(axis=0))\n",
    "plt.show()"
   ]
  },
  {
   "cell_type": "code",
   "execution_count": 38,
   "id": "9e6ef183",
   "metadata": {},
   "outputs": [
    {
     "data": {
      "image/png": "[encoded data removed]",
      "text/plain": [
       "<Figure size 432x288 with 1 Axes>"
      ]
     },
     "metadata": {
      "needs_background": "light"
     },
     "output_type": "display_data"
    },
    {
     "data": {
      "image/png": "[encoded data removed]",
      "text/plain": [
       "<Figure size 432x288 with 1 Axes>"
      ]
     },
     "metadata": {
      "needs_background": "light"
     },
     "output_type": "display_data"
    },
    {
     "data": {
      "image/png": "[encoded data removed]",
      "text/plain": [
       "<Figure size 432x288 with 1 Axes>"
      ]
     },
     "metadata": {
      "needs_background": "light"
     },
     "output_type": "display_data"
    }
   ],
   "source": [
    "data = np.load('/Users/gkeating/test.npy')\n",
    "data = np.sum(np.sum(data > 0.75, axis=5), axis=4).astype(float)\n",
    "data /= data.max()\n",
    "data = data[:,:,:,0]\n",
    "\n",
    "plt.imshow(np.any(data > 0.999,axis=0), origin='lower', cmap='jet')\n",
    "plt.clim([0,1])\n",
    "plt.show()\n",
    "plt.imshow(np.any(data > 0.999,axis=1), origin='lower', cmap='jet')\n",
    "plt.clim([0,1])\n",
    "plt.show()\n",
    "plt.imshow(np.any(data > 0.999,axis=2), origin='lower', cmap='jet')\n",
    "plt.clim([0,1])\n",
    "plt.show()\n",
    "#plt.plot((data > 0.9).sum(axis=5).sum(axis=4).sum(axis=2).sum(axis=1).sum(axis=0))"
   ]
  },
  {
   "cell_type": "code",
   "execution_count": 119,
   "id": "0218bc3a",
   "metadata": {},
   "outputs": [],
   "source": [
    "import glob\n",
    "data_path = '/Users/gkeating/repo/sma_phasing_sims/phasing_data/'\n",
    "file_list = glob.glob(data_path + '/*')\n",
    "\n",
    "for file in file_list:\n",
    "    try:\n",
    "        load_swarm_data(file)\n",
    "    except:\n",
    "        print(file)\n"
   ]
  },
  {
   "cell_type": "code",
   "execution_count": 118,
   "id": "1ef9c571",
   "metadata": {},
   "outputs": [
    {
     "ename": "FileNotFoundError",
     "evalue": "[Errno 2] No such file or directory: '/Users/gkeating/repo/sma_phasing_sims/phasing_data/vlbi_cal.320-2017.json'",
     "output_type": "error",
     "traceback": [
      "\u001b[0;31m---------------------------------------------------------------------------\u001b[0m",
      "\u001b[0;31mFileNotFoundError\u001b[0m                         Traceback (most recent call last)",
      "\u001b[0;32m/var/folders/6k/9m18n_s947n5ts95gb8v5v180000gn/T/ipykernel_92133/3488524986.py\u001b[0m in \u001b[0;36m<module>\u001b[0;34m\u001b[0m\n\u001b[0;32m----> 1\u001b[0;31m \u001b[0;32mwith\u001b[0m \u001b[0mopen\u001b[0m\u001b[0;34m(\u001b[0m\u001b[0;34m'/Users/gkeating/repo/sma_phasing_sims/phasing_data/vlbi_cal.320-2017.json'\u001b[0m\u001b[0;34m)\u001b[0m \u001b[0;32mas\u001b[0m \u001b[0mjson_file\u001b[0m\u001b[0;34m:\u001b[0m\u001b[0;34m\u001b[0m\u001b[0;34m\u001b[0m\u001b[0m\n\u001b[0m\u001b[1;32m      2\u001b[0m     \u001b[0mswarm_data\u001b[0m \u001b[0;34m=\u001b[0m \u001b[0mjson\u001b[0m\u001b[0;34m.\u001b[0m\u001b[0mload\u001b[0m\u001b[0;34m(\u001b[0m\u001b[0mjson_file\u001b[0m\u001b[0;34m)\u001b[0m\u001b[0;34m\u001b[0m\u001b[0;34m\u001b[0m\u001b[0m\n\u001b[1;32m      3\u001b[0m \u001b[0;34m\u001b[0m\u001b[0m\n\u001b[1;32m      4\u001b[0m \u001b[0mprint\u001b[0m\u001b[0;34m(\u001b[0m\u001b[0mswarm_data\u001b[0m\u001b[0;34m[\u001b[0m\u001b[0;34m-\u001b[0m\u001b[0;36m1\u001b[0m\u001b[0;34m]\u001b[0m\u001b[0;34m.\u001b[0m\u001b[0mkeys\u001b[0m\u001b[0;34m(\u001b[0m\u001b[0;34m)\u001b[0m\u001b[0;34m)\u001b[0m\u001b[0;34m\u001b[0m\u001b[0;34m\u001b[0m\u001b[0m\n",
      "\u001b[0;31mFileNotFoundError\u001b[0m: [Errno 2] No such file or directory: '/Users/gkeating/repo/sma_phasing_sims/phasing_data/vlbi_cal.320-2017.json'"
     ]
    }
   ],
   "source": [
    "\n",
    "with open('/Users/gkeating/repo/sma_phasing_sims/phasing_data/vlbi_cal.320-2017.json') as json_file:\n",
    "    swarm_data = json.load(json_file)\n",
    "\n",
    "print(swarm_data[-1].keys())\n"
   ]
  },
  {
   "cell_type": "code",
   "execution_count": 114,
   "id": "1d5bc388",
   "metadata": {},
   "outputs": [
    {
     "ename": "KeyError",
     "evalue": "'inputs_lsb'",
     "output_type": "error",
     "traceback": [
      "\u001b[0;31m---------------------------------------------------------------------------\u001b[0m",
      "\u001b[0;31mKeyError\u001b[0m                                  Traceback (most recent call last)",
      "\u001b[0;32m/var/folders/6k/9m18n_s947n5ts95gb8v5v180000gn/T/ipykernel_92133/1590906238.py\u001b[0m in \u001b[0;36m<module>\u001b[0;34m\u001b[0m\n\u001b[0;32m----> 1\u001b[0;31m \u001b[0m_\u001b[0m \u001b[0;34m=\u001b[0m \u001b[0mload_swarm_data\u001b[0m\u001b[0;34m(\u001b[0m\u001b[0;34m'/Users/gkeating/repo/sma_phasing_sims/phasing_data/vlbi_cal.320-2017.json'\u001b[0m\u001b[0;34m)\u001b[0m\u001b[0;34m\u001b[0m\u001b[0;34m\u001b[0m\u001b[0m\n\u001b[0m",
      "\u001b[0;32m/var/folders/6k/9m18n_s947n5ts95gb8v5v180000gn/T/ipykernel_92133/345357520.py\u001b[0m in \u001b[0;36mload_swarm_data\u001b[0;34m(filename)\u001b[0m\n\u001b[1;32m     37\u001b[0m         \u001b[0mprog_vals\u001b[0m \u001b[0;34m=\u001b[0m \u001b[0mphase_online\u001b[0m\u001b[0;34m\u001b[0m\u001b[0;34m\u001b[0m\u001b[0m\n\u001b[1;32m     38\u001b[0m     \u001b[0;32melse\u001b[0m\u001b[0;34m:\u001b[0m\u001b[0;34m\u001b[0m\u001b[0;34m\u001b[0m\u001b[0m\n\u001b[0;32m---> 39\u001b[0;31m         \u001b[0minput_count\u001b[0m \u001b[0;34m=\u001b[0m \u001b[0mnp\u001b[0m\u001b[0;34m.\u001b[0m\u001b[0mmedian\u001b[0m\u001b[0;34m(\u001b[0m\u001b[0;34m[\u001b[0m\u001b[0;34m[\u001b[0m\u001b[0mlen\u001b[0m\u001b[0;34m(\u001b[0m\u001b[0mdata\u001b[0m\u001b[0;34m[\u001b[0m\u001b[0;34m'inputs_lsb'\u001b[0m\u001b[0;34m]\u001b[0m\u001b[0;34m)\u001b[0m\u001b[0;34m,\u001b[0m \u001b[0mlen\u001b[0m\u001b[0;34m(\u001b[0m\u001b[0mdata\u001b[0m\u001b[0;34m[\u001b[0m\u001b[0;34m'inputs_usb'\u001b[0m\u001b[0;34m]\u001b[0m\u001b[0;34m)\u001b[0m\u001b[0;34m]\u001b[0m \u001b[0;32mfor\u001b[0m \u001b[0mdata\u001b[0m \u001b[0;32min\u001b[0m \u001b[0mswarm_data\u001b[0m\u001b[0;34m]\u001b[0m\u001b[0;34m)\u001b[0m\u001b[0;34m\u001b[0m\u001b[0;34m\u001b[0m\u001b[0m\n\u001b[0m\u001b[1;32m     40\u001b[0m \u001b[0;34m\u001b[0m\u001b[0m\n\u001b[1;32m     41\u001b[0m         use_data = [\n",
      "\u001b[0;32m/var/folders/6k/9m18n_s947n5ts95gb8v5v180000gn/T/ipykernel_92133/345357520.py\u001b[0m in \u001b[0;36m<listcomp>\u001b[0;34m(.0)\u001b[0m\n\u001b[1;32m     37\u001b[0m         \u001b[0mprog_vals\u001b[0m \u001b[0;34m=\u001b[0m \u001b[0mphase_online\u001b[0m\u001b[0;34m\u001b[0m\u001b[0;34m\u001b[0m\u001b[0m\n\u001b[1;32m     38\u001b[0m     \u001b[0;32melse\u001b[0m\u001b[0;34m:\u001b[0m\u001b[0;34m\u001b[0m\u001b[0;34m\u001b[0m\u001b[0m\n\u001b[0;32m---> 39\u001b[0;31m         \u001b[0minput_count\u001b[0m \u001b[0;34m=\u001b[0m \u001b[0mnp\u001b[0m\u001b[0;34m.\u001b[0m\u001b[0mmedian\u001b[0m\u001b[0;34m(\u001b[0m\u001b[0;34m[\u001b[0m\u001b[0;34m[\u001b[0m\u001b[0mlen\u001b[0m\u001b[0;34m(\u001b[0m\u001b[0mdata\u001b[0m\u001b[0;34m[\u001b[0m\u001b[0;34m'inputs_lsb'\u001b[0m\u001b[0;34m]\u001b[0m\u001b[0;34m)\u001b[0m\u001b[0;34m,\u001b[0m \u001b[0mlen\u001b[0m\u001b[0;34m(\u001b[0m\u001b[0mdata\u001b[0m\u001b[0;34m[\u001b[0m\u001b[0;34m'inputs_usb'\u001b[0m\u001b[0;34m]\u001b[0m\u001b[0;34m)\u001b[0m\u001b[0;34m]\u001b[0m \u001b[0;32mfor\u001b[0m \u001b[0mdata\u001b[0m \u001b[0;32min\u001b[0m \u001b[0mswarm_data\u001b[0m\u001b[0;34m]\u001b[0m\u001b[0;34m)\u001b[0m\u001b[0;34m\u001b[0m\u001b[0;34m\u001b[0m\u001b[0m\n\u001b[0m\u001b[1;32m     40\u001b[0m \u001b[0;34m\u001b[0m\u001b[0m\n\u001b[1;32m     41\u001b[0m         use_data = [\n",
      "\u001b[0;31mKeyError\u001b[0m: 'inputs_lsb'"
     ]
    }
   ],
   "source": [
    "_ = load_swarm_data('/Users/gkeating/repo/sma_phasing_sims/phasing_data/vlbi_cal.320-2017.json')"
   ]
  },
  {
   "cell_type": "code",
   "execution_count": null,
   "id": "537b18af",
   "metadata": {},
   "outputs": [],
   "source": []
  }
 ],
 "metadata": {
  "kernelspec": {
   "display_name": "Python 3 (ipykernel)",
   "language": "python",
   "name": "python3"
  },
  "language_info": {
   "codemirror_mode": {
    "name": "ipython",
    "version": 3
   },
   "file_extension": ".py",
   "mimetype": "text/x-python",
   "name": "python",
   "nbconvert_exporter": "python",
   "pygments_lexer": "ipython3",
   "version": "3.9.8"
  }
 },
 "nbformat": 4,
 "nbformat_minor": 5
}
